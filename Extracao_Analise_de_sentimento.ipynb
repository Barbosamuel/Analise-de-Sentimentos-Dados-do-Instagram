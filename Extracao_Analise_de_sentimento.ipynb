{
 "cells": [
  {
   "cell_type": "markdown",
   "id": "65dd8bec",
   "metadata": {},
   "source": [
    "# 0.0. IMPORTS"
   ]
  },
  {
   "cell_type": "code",
   "execution_count": 1,
   "id": "e341f2b2",
   "metadata": {
    "ExecuteTime": {
     "end_time": "2022-09-30T19:20:54.386897Z",
     "start_time": "2022-09-30T19:20:53.883422Z"
    }
   },
   "outputs": [
    {
     "name": "stderr",
     "output_type": "stream",
     "text": [
      "C:\\Users\\samuel.soares\\Anaconda3\\lib\\site-packages\\win_unicode_console\\__init__.py:31: RuntimeWarning: sys.stdin.encoding == 'cp1252', whereas sys.stdout.encoding == 'UTF-8', readline hook consumer may assume they are the same\n",
      "  readline_hook.enable(use_pyreadline=use_pyreadline)\n"
     ]
    }
   ],
   "source": [
    "import instaloader\n",
    "import csv\n",
    "import pandas as pd\n",
    "import warnings\n",
    "import os"
   ]
  },
  {
   "cell_type": "markdown",
   "id": "d64f4775",
   "metadata": {},
   "source": [
    "## 0.1. Função Para Visualização Jupyter"
   ]
  },
  {
   "cell_type": "code",
   "execution_count": 2,
   "id": "3af7cf1c",
   "metadata": {
    "ExecuteTime": {
     "end_time": "2022-09-30T19:20:56.453493Z",
     "start_time": "2022-09-30T19:20:55.210296Z"
    }
   },
   "outputs": [
    {
     "name": "stdout",
     "output_type": "stream",
     "text": [
      "%pylab is deprecated, use %matplotlib inline and import the required libraries.\n",
      "Populating the interactive namespace from numpy and matplotlib\n"
     ]
    },
    {
     "data": {
      "text/html": [
       "<style>.container { width:100% !important; }</style>"
      ],
      "text/plain": [
       "<IPython.core.display.HTML object>"
      ]
     },
     "metadata": {},
     "output_type": "display_data"
    }
   ],
   "source": [
    "import seaborn           as sns\n",
    "from IPython.core.display  import HTML\n",
    "def jupyter_settings():\n",
    "    %matplotlib inline\n",
    "    %pylab inline\n",
    " \n",
    "    plt.style.use( 'bmh' )\n",
    "    plt.rcParams['figure.figsize'] = [20,10]\n",
    "    plt.rcParams['font.size'] = 24\n",
    "  \n",
    "    display( HTML( '<style>.container { width:100% !important; }</style>') )\n",
    "    pd.options.display.max_columns = None\n",
    "    pd.options.display.max_rows = 100 \n",
    "    pd.set_option( 'display.expand_frame_repr', False )\n",
    "  \n",
    "    sns.set()\n",
    "\n",
    "jupyter_settings()\n",
    "\n",
    "warnings.filterwarnings('ignore') #desativar os warnings nos outputs\n",
    "pd.set_option('display.max_row', 10000) #aparecer 3000 linhas de um dataframe para melhor visualização do conjunto todo\n",
    "%config IPCompleter.greedy=True #extensão para autocomplementar o códigoA"
   ]
  },
  {
   "cell_type": "markdown",
   "id": "53de0da1",
   "metadata": {},
   "source": [
    "## 0.1. Criação dos Diretórios Para Cada Extração"
   ]
  },
  {
   "cell_type": "code",
   "execution_count": 3,
   "id": "698c4a58",
   "metadata": {
    "ExecuteTime": {
     "end_time": "2022-09-30T19:20:56.547661Z",
     "start_time": "2022-09-30T19:20:56.534084Z"
    }
   },
   "outputs": [],
   "source": [
    "pasta_instagram = 'Extrações Instagram'\n",
    "\n",
    "if not os.path.exists(pasta_instagram):\n",
    "    os.makedirs(pasta_instagram)\n",
    "\n",
    "pasta_twitter = 'Extrações Twitter'\n",
    "\n",
    "if not os.path.exists(pasta_twitter):\n",
    "    os.makedirs(pasta_twitter)"
   ]
  },
  {
   "cell_type": "markdown",
   "id": "8909cda1",
   "metadata": {},
   "source": [
    "# 1. COLETA DE DADOS DOS CLIENTES"
   ]
  },
  {
   "cell_type": "code",
   "execution_count": 4,
   "id": "11d6a1e5",
   "metadata": {
    "ExecuteTime": {
     "end_time": "2022-09-30T19:20:57.697721Z",
     "start_time": "2022-09-30T19:20:57.291054Z"
    },
    "scrolled": true
   },
   "outputs": [],
   "source": [
    "df_dados_clientes = pd.read_excel ('Data/Dados de Clientes.xlsx')"
   ]
  },
  {
   "cell_type": "markdown",
   "id": "34e7a618",
   "metadata": {},
   "source": [
    "## 1.1. Usuários do Instagram"
   ]
  },
  {
   "cell_type": "code",
   "execution_count": 5,
   "id": "401ad5df",
   "metadata": {
    "ExecuteTime": {
     "end_time": "2022-09-30T19:20:58.398413Z",
     "start_time": "2022-09-30T19:20:58.381688Z"
    }
   },
   "outputs": [],
   "source": [
    "municipios = df_dados_clientes['Município']\n",
    "usuarios = df_dados_clientes['Usuario Instagram']\n",
    "estados = df_dados_clientes['UF']\n",
    "#df_dados_clientes.dtypes\n",
    "#df_dados_clientes.shape[0]\n",
    "#df_dados_clientes.isna().sum()\n",
    "#len(df_dados_clientes.index)"
   ]
  },
  {
   "cell_type": "markdown",
   "id": "fd0cdd41",
   "metadata": {},
   "source": [
    "# 2. EXTRAINDO DADOS DO INSTAGRAM"
   ]
  },
  {
   "cell_type": "markdown",
   "id": "ca8decac",
   "metadata": {},
   "source": [
    "## 2.1. Função de Extração do Instagram\n"
   ]
  },
  {
   "cell_type": "code",
   "execution_count": 6,
   "id": "fc107b1f",
   "metadata": {
    "ExecuteTime": {
     "end_time": "2022-09-30T19:20:59.647193Z",
     "start_time": "2022-09-30T19:20:59.640001Z"
    },
    "code_folding": []
   },
   "outputs": [],
   "source": [
    "def informacoes_posts_csv(L,username, municipio, estado):\n",
    "    with open('Extrações Instagram/' + municipio + '_' + estado + '.csv', 'w', newline='', encoding='utf-8') as file:\n",
    "        writer = csv.writer(file)\n",
    "        posts = instaloader.Profile.from_username(L.context, username).get_posts()\n",
    "        contador = 0\n",
    "        for post in posts:\n",
    "            if ( contador >= 100 ): #pegar os últimos 30 posts do usuário\n",
    "                break\n",
    "                \n",
    "            else:\n",
    "                writer.writerow([municipio, estado, \"Post\", post.date, post.profile, post.caption, \"\", post.likes])\n",
    "                for comment in post.get_comments():\n",
    "                    writer.writerow([municipio, estado, \"Comentario\", comment. created_at_utc, comment.owner.username, \"\", comment.text, \"\"])\n",
    "                contador += 1 \n",
    "            "
   ]
  },
  {
   "cell_type": "markdown",
   "id": "bf99f451",
   "metadata": {},
   "source": [
    "## 2.2. Login Instagram"
   ]
  },
  {
   "cell_type": "code",
   "execution_count": 60,
   "id": "60333324",
   "metadata": {
    "ExecuteTime": {
     "end_time": "2022-08-22T17:55:13.205847Z",
     "start_time": "2022-08-22T17:55:07.019459Z"
    }
   },
   "outputs": [],
   "source": [
    "df_login_instagram = pd.read_csv ('Data/Login_Instagram.csv')\n",
    "\n",
    "usuario = df_login_instagram['Login'][0]\n",
    "senha = df_login_instagram['Login'][1]\n",
    "\n",
    "L = instaloader.Instaloader()\n",
    "L.login(usuario, senha)"
   ]
  },
  {
   "cell_type": "markdown",
   "id": "c1d368a1",
   "metadata": {},
   "source": [
    "## 2.3. Coleta dos Comentários dos Posts"
   ]
  },
  {
   "cell_type": "code",
   "execution_count": 13,
   "id": "50877a94",
   "metadata": {
    "ExecuteTime": {
     "end_time": "2022-08-22T18:20:22.181346Z",
     "start_time": "2022-08-22T18:19:54.749106Z"
    },
    "scrolled": true
   },
   "outputs": [],
   "source": [
    "for i in range(len(df_dados_clientes.index)):\n",
    "    informacoes_posts_csv(L, usuarios[i], municipios[i], estados[i])\n",
    "\n",
    "#informacoes_posts_csv(L, '_samuel_barbosa_', 'Samuel', 'TS')     # coleta teste"
   ]
  },
  {
   "cell_type": "markdown",
   "id": "40aabf33",
   "metadata": {},
   "source": [
    "## 2.4. Junção das Tabelas Extraídas"
   ]
  },
  {
   "cell_type": "code",
   "execution_count": 8,
   "id": "452ab76b",
   "metadata": {
    "ExecuteTime": {
     "end_time": "2022-09-30T19:21:38.093670Z",
     "start_time": "2022-09-30T19:21:37.639707Z"
    }
   },
   "outputs": [
    {
     "name": "stdout",
     "output_type": "stream",
     "text": [
      "Iteração 1/27\n",
      "Iteração 2/27\n",
      "Iteração 3/27\n",
      "Iteração 4/27\n",
      "Iteração 5/27\n",
      "Iteração 6/27\n",
      "Iteração 7/27\n",
      "Iteração 8/27\n",
      "Iteração 9/27\n",
      "Iteração 10/27\n",
      "Iteração 11/27\n",
      "Iteração 12/27\n",
      "Iteração 13/27\n",
      "Iteração 14/27\n",
      "Iteração 15/27\n",
      "Iteração 16/27\n",
      "Iteração 17/27\n",
      "Iteração 18/27\n",
      "Iteração 19/27\n",
      "Iteração 20/27\n",
      "Iteração 21/27\n",
      "Iteração 22/27\n",
      "Iteração 23/27\n",
      "Iteração 24/27\n",
      "Iteração 25/27\n",
      "Iteração 26/27\n",
      "Iteração 27/27\n"
     ]
    }
   ],
   "source": [
    "df_comentarios = pd.DataFrame()\n",
    "aux=0\n",
    "for aux in range(len(df_dados_clientes.index)):\n",
    "    df = pd.read_csv('Extrações Instagram/' + municipios[aux] + '_' + estados[aux] + '.csv', delimiter = ',', names = ['Municipio', 'UF', 'Post/Coment', 'Data', 'Usuario', 'Legenda', 'Comentarios', 'Likes'])\n",
    "    df_comentarios = df_comentarios.append(df)\n",
    "\n",
    "df_comentarios.to_csv('Data/TABELA_POSTS_COMENTARIOS_MUNICIPIOS.csv', index=False, encoding='utf-8')"
   ]
  },
  {
   "cell_type": "code",
   "execution_count": null,
   "id": "daec1c67",
   "metadata": {},
   "outputs": [],
   "source": []
  }
 ],
 "metadata": {
  "kernelspec": {
   "display_name": "Python 3 (ipykernel)",
   "language": "python",
   "name": "python3"
  },
  "language_info": {
   "codemirror_mode": {
    "name": "ipython",
    "version": 3
   },
   "file_extension": ".py",
   "mimetype": "text/x-python",
   "name": "python",
   "nbconvert_exporter": "python",
   "pygments_lexer": "ipython3",
   "version": "3.10.4"
  },
  "varInspector": {
   "cols": {
    "lenName": 16,
    "lenType": 16,
    "lenVar": 40
   },
   "kernels_config": {
    "python": {
     "delete_cmd_postfix": "",
     "delete_cmd_prefix": "del ",
     "library": "var_list.py",
     "varRefreshCmd": "print(var_dic_list())"
    },
    "r": {
     "delete_cmd_postfix": ") ",
     "delete_cmd_prefix": "rm(",
     "library": "var_list.r",
     "varRefreshCmd": "cat(var_dic_list()) "
    }
   },
   "types_to_exclude": [
    "module",
    "function",
    "builtin_function_or_method",
    "instance",
    "_Feature"
   ],
   "window_display": false
  }
 },
 "nbformat": 4,
 "nbformat_minor": 5
}
